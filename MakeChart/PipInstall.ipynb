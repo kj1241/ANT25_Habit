{
 "cells": [
  {
   "cell_type": "code",
   "execution_count": 1,
   "id": "d222a98f-8750-4c16-9b1c-aefa61756330",
   "metadata": {},
   "outputs": [
    {
     "name": "stdout",
     "output_type": "stream",
     "text": [
      "Pandas Version: 2.2.3\n",
      "Matplotlib Version: 3.9.3\n",
      "NumPy Version: 1.26.4\n"
     ]
    }
   ],
   "source": [
    "# Pandas, Matplotlib, NumPy 설치\n",
    "!pip install pandas==2.2.3\n",
    "!pip install matplotlib==3.9.3\n",
    "!pip install numpy==1.26.4"
   ]
  },
  {
   "cell_type": "code",
   "execution_count": 2,
   "id": "5c23677d-3132-40f6-bc0b-f207a0c16596",
   "metadata": {},
   "outputs": [
    {
     "name": "stdout",
     "output_type": "stream",
     "text": [
      "Pandas Version: 2.2.3\n",
      "Matplotlib Version: 3.9.3\n",
      "NumPy Version: 1.26.4\n"
     ]
    }
   ],
   "source": [
    "import pandas as pd\n",
    "import matplotlib\n",
    "import numpy as np\n",
    "\n",
    "# 버전 출력\n",
    "print(\"Pandas Version:\", pd.__version__)\n",
    "print(\"Matplotlib Version:\", matplotlib.__version__)\n",
    "print(\"NumPy Version:\", np.__version__)"
   ]
  },
  {
   "cell_type": "code",
   "execution_count": null,
   "id": "5830904d-473c-43af-a7ef-91f94683a7be",
   "metadata": {},
   "outputs": [],
   "source": []
  }
 ],
 "metadata": {
  "kernelspec": {
   "display_name": "Python 3 (ipykernel)",
   "language": "python",
   "name": "python3"
  },
  "language_info": {
   "codemirror_mode": {
    "name": "ipython",
    "version": 3
   },
   "file_extension": ".py",
   "mimetype": "text/x-python",
   "name": "python",
   "nbconvert_exporter": "python",
   "pygments_lexer": "ipython3",
   "version": "3.12.6"
  }
 },
 "nbformat": 4,
 "nbformat_minor": 5
}
